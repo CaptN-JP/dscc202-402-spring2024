{
 "cells": [
  {
   "cell_type": "markdown",
   "metadata": {
    "application/vnd.databricks.v1+cell": {
     "cellMetadata": {},
     "inputWidgets": {},
     "nuid": "fc749083-2211-485c-943f-640e198b2c70",
     "showTitle": false,
     "title": ""
    }
   },
   "source": [
    "## DSCC202-402 Data Science at Scale Final Project\n",
    "### Tracking Tweet sentiment at scale using a pretrained transformer (classifier)\n",
    "<p>Consider the following illustration of the end to end system that you will be building.  Each student should do their own work.  The project will demonstrate your understanding of Spark Streaming, the medalion data architecture using Delta Lake, Spark Inference at Scale using an MLflow packaged model as well as Exploritory Data Analysis and System Tracking and Monitoring.</p>\n",
    "<br><br>\n",
    "<img src=\"https://data-science-at-scale.s3.amazonaws.com/images/pipeline.drawio.png\">\n",
    "\n",
    "<p>\n",
    "You will be pulling an updated copy of the course GitHub repositiory: <a href=\"https://github.com/lpalum/dscc202-402-spring2024\">The Repo</a>.  If you are unclear on how to pull an updated copy using the GitHub command line, the following <a href=\"https://techwritingmatters.com/how-to-update-your-forked-repository-on-github\">document</a> is helpful.  Be sure to add the professors and TAs as collaborators on your project. \n",
    "\n",
    "- lpalum@gmail.com GitHub ID: lpalum\n",
    "- ajay.anand@rochester.edu GitHub ID: ajayan12\n",
    "- divyamunot1999@gmail.com GitHub ID: divyamunot\n",
    "- ylong6@u.Rochester.edu GitHub ID: NinaLong2077\n",
    "\n",
    "Once you have updates your fork of the repository you should see the following template project that is resident in the final_project directory.\n",
    "</p>\n",
    "\n",
    "<img src=\"https://data-science-at-scale.s3.amazonaws.com/images/notebooks.drawio.png\">\n",
    "\n",
    "<p>\n",
    "You can then pull your project into the Databrick Workspace using the <a href=\"https://www.databricks.training/step-by-step/importing-courseware-from-github/index.html\">Repos</a> feature.\n",
    "Each student is expected to submit the URL of their project on GitHub with their code checked in on the main/master branch.  This illustration highlights the branching scheme that you may use to work on your code in steps and then merge your submission into your master branch before submitting.\n",
    "</p>\n",
    "<img src=\"https://data-science-at-scale.s3.amazonaws.com/images/github.drawio.png\">\n",
    "<p>\n",
    "Work your way through this notebook which will give you the steps required to submit a complete and compliant project.  The following illustration and associated data dictionary specifies the transformations and data that you are to generate for each step in the medallion pipeline.\n",
    "</p>\n",
    "<br><br>\n",
    "<img src=\"https://data-science-at-scale.s3.amazonaws.com/images/dataframes.drawio.png\">\n",
    "\n",
    "#### Bronze Data - raw ingest\n",
    "- date - string in the source json\n",
    "- user - string in the source json\n",
    "- text - tweet string in the source json\n",
    "- sentiment - the given sentiment of the text as determined by an unknown model that is provided in the source json\n",
    "- source_file - the path of the source json file the this row of data was read from\n",
    "- processing_time - a timestamp of when you read this row from the source json\n",
    "\n",
    "#### Silver Data - Bronze Preprocessing\n",
    "- timestamp - convert date string in the bronze data to a timestamp\n",
    "- mention - every @username mentioned in the text string in the bronze data gets a row in this silver data table.\n",
    "- cleaned_text - the bronze text data with the mentions (@username) removed.\n",
    "- sentiment - the given sentiment that was associated with the text in the bronze table.\n",
    "\n",
    "#### Gold Data - Silver Table Inference\n",
    "- timestamp - the timestamp from the silver data table rows\n",
    "- mention - the mention from the silver data table rows\n",
    "- cleaned_text - the cleaned_text from the silver data table rows\n",
    "- sentiment - the given sentiment from the silver data table rows\n",
    "- predicted_score - score out of 100 from the Hugging Face Sentiment Transformer\n",
    "- predicted_sentiment - string representation of the sentiment\n",
    "- sentiment_id - 0 for negative and 1 for postive associated with the given sentiment\n",
    "- predicted_sentiment_id - 0 for negative and 1 for positive assocaited with the Hugging Face Sentiment Transformer\n",
    "\n",
    "#### Application Data - Gold Table Aggregation\n",
    "- min_timestamp - the oldest timestamp on a given mention (@username)\n",
    "- max_timestamp - the newest timestamp on a given mention (@username)\n",
    "- mention - the user (@username) that this row pertains to.\n",
    "- negative - total negative tweets directed at this mention (@username)\n",
    "- neutral - total neutral tweets directed at this mention (@username)\n",
    "- positive - total positive tweets directed at this mention (@username)\n",
    "\n",
    "When you are designing your approach, one of the main decisions that you will need to make is how you are going to orchestrate the streaming data processing in your pipeline.  There are several valid approaches.  First, you may choose to start the bronze_stream and let it complete (read and append all of the source data) before preceeding and starting up the silver_stream.  This approach has latency associated with it but it will allow your code to proceed in a linear fashion and process all the data by the end of your notebook execution.  Another potential approach is to start all the streams and have a \"watch\" method to determine when the pipeline has processed sufficient or all of the source data before stopping and displaying results.  Both of these approaches are valid and have different implications on how you will trigger your steams and how you will gate the execution of your pipeline.  Think through how you want to proceed and ask questions if you need guidance. The following references may be helpful:\n",
    "- [Spark Structured Streaming Programming Guide](https://spark.apache.org/docs/latest/structured-streaming-programming-guide.html)\n",
    "- [Databricks Autoloader - Cloudfiles](https://docs.databricks.com/en/ingestion/auto-loader/index.html)\n",
    "\n",
    "### Be sure that your project runs end to end when *Run all* is executed on this notebook! (15 Points out of 60)"
   ]
  },
  {
   "cell_type": "code",
   "execution_count": 0,
   "metadata": {
    "application/vnd.databricks.v1+cell": {
     "cellMetadata": {
      "byteLimit": 2048000,
      "rowLimit": 10000
     },
     "inputWidgets": {},
     "nuid": "068f25d0-1387-4342-89cf-ce82a8d614ce",
     "showTitle": true,
     "title": "Pull in the Includes & Utiltites"
    }
   },
   "outputs": [],
   "source": [
    "%run ./includes/includes"
   ]
  },
  {
   "cell_type": "code",
   "execution_count": 0,
   "metadata": {
    "application/vnd.databricks.v1+cell": {
     "cellMetadata": {
      "byteLimit": 2048000,
      "rowLimit": 10000
     },
     "inputWidgets": {},
     "nuid": "6512bf1b-50e0-4a4b-84a9-e280a6260b56",
     "showTitle": true,
     "title": "Notebook Control Widgets (maybe helpful)"
    }
   },
   "outputs": [],
   "source": [
    "\"\"\"\n",
    "Adding a widget to the notebook to control the clearing of a previous run.\n",
    "or stopping the active streams using routines defined in the utilities notebook\n",
    "\"\"\"\n",
    "dbutils.widgets.removeAll()\n",
    "\n",
    "dbutils.widgets.dropdown(\"clear_previous_run\", \"No\", [\"No\",\"Yes\"])\n",
    "if (getArgument(\"clear_previous_run\") == \"Yes\"):\n",
    "    clear_previous_run()\n",
    "    print(\"Cleared all previous data.\")\n",
    "\n",
    "dbutils.widgets.dropdown(\"stop_streams\", \"No\", [\"No\",\"Yes\"])\n",
    "if (getArgument(\"stop_streams\") == \"Yes\"):\n",
    "    stop_all_streams()\n",
    "    print(\"Stopped all active streams.\")\n",
    "\n",
    "from delta import *\n",
    "dbutils.widgets.dropdown(\"optimize_tables\", \"No\", [\"No\",\"Yes\"])\n",
    "if (getArgument(\"optimize_tables\") == \"Yes\"):\n",
    "    # Suck up those small files that we have been appending.\n",
    "    DeltaTable.forPath(spark, BRONZE_DELTA).optimize().executeCompaction()\n",
    "    # Suck up those small files that we have been appending.\n",
    "    DeltaTable.forPath(spark, SILVER_DELTA).optimize().executeCompaction()\n",
    "    # Suck up those small files that we have been appending.\n",
    "    DeltaTable.forPath(spark, GOLD_DELTA).optimize().executeCompaction()\n",
    "    print(\"Optimized all of the Delta Tables\")"
   ]
  },
  {
   "cell_type": "markdown",
   "metadata": {
    "application/vnd.databricks.v1+cell": {
     "cellMetadata": {},
     "inputWidgets": {},
     "nuid": "e8ce7c13-7f8f-4e11-b50c-fdaebbcf3f99",
     "showTitle": false,
     "title": ""
    }
   },
   "source": [
    "## 1.0 Import your libraries here...\n",
    "- Are your shuffle partitions consistent with your cluster and your workload?\n",
    "- Do you have the necessary libraries to perform the required operations in the pipeline/application?"
   ]
  },
  {
   "cell_type": "markdown",
   "metadata": {
    "application/vnd.databricks.v1+cell": {
     "cellMetadata": {},
     "inputWidgets": {},
     "nuid": "8644b908-f31e-4809-b144-deb69628331f",
     "showTitle": false,
     "title": ""
    }
   },
   "source": [
    "#### 1.1 Importing all the necessary libraries"
   ]
  },
  {
   "cell_type": "code",
   "execution_count": 0,
   "metadata": {
    "application/vnd.databricks.v1+cell": {
     "cellMetadata": {
      "byteLimit": 2048000,
      "rowLimit": 10000
     },
     "inputWidgets": {},
     "nuid": "b11b6e10-dbb2-4c00-848a-66500eab0ea6",
     "showTitle": false,
     "title": ""
    }
   },
   "outputs": [],
   "source": [
    "import os\n",
    "import json\n",
    "import random\n",
    "import mlflow\n",
    "import tempfile\n",
    "import matplotlib.pyplot as plt\n",
    "import seaborn as sns\n",
    "from delta.tables import DeltaTable\n",
    "\n",
    "from pyspark.sql import DataFrame\n",
    "from pyspark.sql import functions as F\n",
    "from pyspark.ml.evaluation import MulticlassClassificationEvaluator\n",
    "from pyspark.mllib.evaluation import MulticlassMetrics\n",
    "from pyspark.sql.functions import col, cast, udf, count, input_file_name, current_timestamp, to_timestamp, explode, regexp_replace, desc\n",
    "\n",
    "from pyspark.sql.types import StringType, StructField, TimestampType, StructType"
   ]
  },
  {
   "cell_type": "markdown",
   "metadata": {
    "application/vnd.databricks.v1+cell": {
     "cellMetadata": {
      "byteLimit": 2048000,
      "rowLimit": 10000
     },
     "inputWidgets": {},
     "nuid": "e3b00361-7985-4db2-9257-ae55b997df8b",
     "showTitle": false,
     "title": ""
    }
   },
   "source": [
    "#### 1.2 Configuring optimal number of Shuffle partitions\n",
    "\n",
    "* Since the number of cores of node was 4, setting the shuffle partitions config a multiple of 4"
   ]
  },
  {
   "cell_type": "code",
   "execution_count": 0,
   "metadata": {
    "application/vnd.databricks.v1+cell": {
     "cellMetadata": {
      "byteLimit": 2048000,
      "rowLimit": 10000
     },
     "inputWidgets": {},
     "nuid": "1c743103-c04b-4c05-8538-0c14c07f1b5c",
     "showTitle": false,
     "title": ""
    }
   },
   "outputs": [],
   "source": [
    "# Adjusting the number of shuffle partitions\n",
    "spark.conf.set(\"spark.sql.shuffle.partitions\", \"16\") "
   ]
  },
  {
   "cell_type": "markdown",
   "metadata": {
    "application/vnd.databricks.v1+cell": {
     "cellMetadata": {},
     "inputWidgets": {},
     "nuid": "2b7624b4-0aa5-46b7-9767-52f462b2c574",
     "showTitle": false,
     "title": ""
    }
   },
   "source": [
    "## 2.0 Use the utility functions to ...\n",
    "- Read the source file directory listing\n",
    "- Count the source files (how many are there?)\n",
    "- print the contents of one of the files"
   ]
  },
  {
   "cell_type": "markdown",
   "metadata": {
    "application/vnd.databricks.v1+cell": {
     "cellMetadata": {
      "byteLimit": 2048000,
      "rowLimit": 10000
     },
     "inputWidgets": {},
     "nuid": "66fc1743-9184-4648-ba5b-a7a5af2fc8d4",
     "showTitle": false,
     "title": ""
    }
   },
   "source": [
    "#### 2.1 Listing the source directory into a DataFrame using utilities"
   ]
  },
  {
   "cell_type": "code",
   "execution_count": 0,
   "metadata": {
    "application/vnd.databricks.v1+cell": {
     "cellMetadata": {
      "byteLimit": 2048000,
      "rowLimit": 10000
     },
     "inputWidgets": {},
     "nuid": "a59749d5-e45d-460f-9be1-33652cda2ea5",
     "showTitle": false,
     "title": ""
    }
   },
   "outputs": [],
   "source": [
    "df = get_source_listing_df()\n",
    "display(df.head())"
   ]
  },
  {
   "cell_type": "markdown",
   "metadata": {
    "application/vnd.databricks.v1+cell": {
     "cellMetadata": {},
     "inputWidgets": {},
     "nuid": "f61430ac-0e4f-4ecb-984c-6f43be8362c9",
     "showTitle": false,
     "title": ""
    }
   },
   "source": [
    "#### 2.2 Number of Source Files"
   ]
  },
  {
   "cell_type": "code",
   "execution_count": 0,
   "metadata": {
    "application/vnd.databricks.v1+cell": {
     "cellMetadata": {
      "byteLimit": 2048000,
      "rowLimit": 10000
     },
     "inputWidgets": {},
     "nuid": "4ac6a878-a0c5-4d0f-b126-5e47a423fed4",
     "showTitle": false,
     "title": ""
    }
   },
   "outputs": [],
   "source": [
    "print(f\"Number of Source files: {df.shape[0]}\")"
   ]
  },
  {
   "cell_type": "markdown",
   "metadata": {
    "application/vnd.databricks.v1+cell": {
     "cellMetadata": {},
     "inputWidgets": {},
     "nuid": "efd35edc-4ace-4164-8fef-5afb8dcb0660",
     "showTitle": false,
     "title": ""
    }
   },
   "source": [
    "#### 2.3 Displaying the content of a single JSON file [Tweet]"
   ]
  },
  {
   "cell_type": "code",
   "execution_count": 0,
   "metadata": {
    "application/vnd.databricks.v1+cell": {
     "cellMetadata": {
      "byteLimit": 2048000,
      "rowLimit": 10000
     },
     "inputWidgets": {},
     "nuid": "49a36893-3c7e-488d-96bd-ead8a68677f2",
     "showTitle": false,
     "title": ""
    }
   },
   "outputs": [],
   "source": [
    "file_contents = show_s3_file_contents(\"voc_volume/0.json\")\n",
    "pretty_json = json.dumps(json.loads(file_contents), indent=4)\n",
    "print(pretty_json)"
   ]
  },
  {
   "cell_type": "markdown",
   "metadata": {
    "application/vnd.databricks.v1+cell": {
     "cellMetadata": {},
     "inputWidgets": {},
     "nuid": "1676aed7-527f-4ea7-9d3b-52544e8c1e37",
     "showTitle": false,
     "title": ""
    }
   },
   "source": [
    "## 3.0 Transform the Raw Data to Bronze Data using a stream\n",
    "- define the schema for the raw data\n",
    "- setup a read stream using cloudfiles and the source data format\n",
    "- setup a write stream using cloudfiles to append to the bronze delta table\n",
    "- enforce schema\n",
    "- allow a new schema to be merged into the bronze delta table\n",
    "- Use the defined BRONZE_CHECKPOINT and BRONZE_DELTA paths defines in the includes\n",
    "- name your raw to bronze stream as bronze_stream\n",
    "- transform the raw data to the bronze data using the data definition at the top of the notebook"
   ]
  },
  {
   "cell_type": "markdown",
   "metadata": {
    "application/vnd.databricks.v1+cell": {
     "cellMetadata": {
      "byteLimit": 2048000,
      "rowLimit": 10000
     },
     "inputWidgets": {},
     "nuid": "a05e7539-9519-4c32-ba2b-bf74044042df",
     "showTitle": false,
     "title": ""
    }
   },
   "source": [
    "#### 3.1 Defining the Schema for Reading JSONs [Tweets]"
   ]
  },
  {
   "cell_type": "code",
   "execution_count": 0,
   "metadata": {
    "application/vnd.databricks.v1+cell": {
     "cellMetadata": {
      "byteLimit": 2048000,
      "rowLimit": 10000
     },
     "inputWidgets": {},
     "nuid": "a36e2093-a829-4337-a6b2-fdde18bfd2fd",
     "showTitle": false,
     "title": ""
    }
   },
   "outputs": [],
   "source": [
    "# Defining the schema of source files\n",
    "bronze_schema = StructType(\n",
    "    [\n",
    "        StructField(\"date\", StringType()), \n",
    "        StructField(\"user\", StringType()),\n",
    "        StructField(\"text\", StringType()),\n",
    "        StructField(\"sentiment\", StringType()),\n",
    "        StructField(\"source_file\", StringType(), True),\n",
    "        StructField(\"processing_time\", TimestampType(), True)\n",
    "    ]\n",
    ")\n",
    "display(bronze_schema)"
   ]
  },
  {
   "cell_type": "markdown",
   "metadata": {
    "application/vnd.databricks.v1+cell": {
     "cellMetadata": {},
     "inputWidgets": {},
     "nuid": "f0fea5e8-5a15-4787-ba7e-6ac51f068536",
     "showTitle": false,
     "title": ""
    }
   },
   "source": [
    "#### Setting up a SAMPLE DATASET for efficient development \n",
    "<hr></hr><i>** It is used only for development.</i>\n",
    "\n",
    "Uncomment to use"
   ]
  },
  {
   "cell_type": "code",
   "execution_count": 0,
   "metadata": {
    "application/vnd.databricks.v1+cell": {
     "cellMetadata": {
      "byteLimit": 2048000,
      "rowLimit": 10000
     },
     "inputWidgets": {},
     "nuid": "f8147bb8-ea98-4048-bbda-8df31ee47b4b",
     "showTitle": false,
     "title": ""
    }
   },
   "outputs": [],
   "source": [
    "SAMPLE_TWEETS_PATH = USER_DIR + \"sample_size/\"\n",
    "files_to_copy_limit = 100"
   ]
  },
  {
   "cell_type": "code",
   "execution_count": 0,
   "metadata": {
    "application/vnd.databricks.v1+cell": {
     "cellMetadata": {
      "byteLimit": 2048000,
      "rowLimit": 10000
     },
     "inputWidgets": {},
     "nuid": "96f65659-1cca-4b00-8d59-26e5f898c56d",
     "showTitle": false,
     "title": ""
    }
   },
   "outputs": [],
   "source": [
    "# # Delete all files in the directory\n",
    "# dbutils.fs.rm(SAMPLE_TWEETS_PATH, recurse=True)\n",
    "# dbutils.fs.mkdirs(SAMPLE_TWEETS_PATH)\n",
    "\n",
    "# # Randomly sample 100 files from the source directory to the destination directory\n",
    "# source_files = dbutils.fs.ls(TWEET_SOURCE_PATH)\n",
    "# files_to_copy = random.sample(source_files, files_to_copy_limit)\n",
    "# # files_to_copy = source_files[:files_to_copy_limit]\n",
    "\n",
    "# for file in files_to_copy:\n",
    "#     source_path = file.path\n",
    "#     destination_path = SAMPLE_TWEETS_PATH + file.name\n",
    "#     dbutils.fs.cp(source_path, destination_path)"
   ]
  },
  {
   "cell_type": "code",
   "execution_count": 0,
   "metadata": {
    "application/vnd.databricks.v1+cell": {
     "cellMetadata": {
      "byteLimit": 2048000,
      "rowLimit": 10000
     },
     "inputWidgets": {},
     "nuid": "a14e9be9-3767-4af8-bb6b-a85cd24d4336",
     "showTitle": false,
     "title": ""
    }
   },
   "outputs": [],
   "source": [
    "# # Checking if all sample files were copied successfully\n",
    "\n",
    "# file_count = len(dbutils.fs.ls(SAMPLE_TWEETS_PATH))\n",
    "# print(f\"Number of files in sample directory: {file_count}\")\n",
    "\n",
    "# assert files_to_copy_limit==file_count"
   ]
  },
  {
   "cell_type": "code",
   "execution_count": 0,
   "metadata": {
    "application/vnd.databricks.v1+cell": {
     "cellMetadata": {
      "byteLimit": 2048000,
      "rowLimit": 10000
     },
     "inputWidgets": {},
     "nuid": "b28e4145-22fc-4c5e-919a-2fafd828fb55",
     "showTitle": false,
     "title": ""
    }
   },
   "outputs": [],
   "source": [
    "# \"\"\" To specifically remove BRONZE TABLE RUN \"\"\"\n",
    "\n",
    "# dbutils.fs.rm(BRONZE_CHECKPOINT, True)\n",
    "# dbutils.fs.rm(BRONZE_DELTA, True)\n",
    "\n",
    "# dbutils.fs.mkdirs(BRONZE_CHECKOINT)\n",
    "# dbutils.fs.mkdirs(BRONZE_DELTA)"
   ]
  },
  {
   "cell_type": "code",
   "execution_count": 0,
   "metadata": {
    "application/vnd.databricks.v1+cell": {
     "cellMetadata": {
      "byteLimit": 2048000,
      "rowLimit": 10000
     },
     "inputWidgets": {},
     "nuid": "b18039b3-a83f-4e25-9d76-1aa59f8ecbc2",
     "showTitle": false,
     "title": ""
    }
   },
   "outputs": [],
   "source": [
    "MEDALLION_COMPONENTS = [GOLD_DELTA, GOLD_CHECKPOINT, SILVER_CHECKPOINT, SILVER_DELTA, BRONZE_DELTA, BRONZE_CHECKPOINT]\n",
    "\n",
    "# def create_directories() -> None:\n",
    "#     \"\"\"\n",
    "#     Create the checkpoints and delta table directories\n",
    "    \n",
    "#     \"\"\"\n",
    "    \n",
    "#     for dir in MEDALLION_COMPONENTS:\n",
    "#         if not dbutils.fs.ls(dir):\n",
    "#             dbutils.fs.mkdirs(dir)\n",
    "#             print(f\"Created \\t{dir}\")\n",
    "\n",
    "# create_directories()\n"
   ]
  },
  {
   "cell_type": "code",
   "execution_count": 0,
   "metadata": {
    "application/vnd.databricks.v1+cell": {
     "cellMetadata": {
      "byteLimit": 2048000,
      "rowLimit": 10000
     },
     "inputWidgets": {},
     "nuid": "3f070a5f-91fa-4d0d-adf8-6f36b4bbb442",
     "showTitle": false,
     "title": ""
    }
   },
   "outputs": [],
   "source": [
    "def is_dir_empty():\n",
    "    \"\"\"\n",
    "    Count the number of files to check if the directory is empty\n",
    "    Was using it initially to check if parquet files are being created to ensure write is successful \n",
    "    \n",
    "    \"\"\"\n",
    "\n",
    "    for dir in MEDALLION_COMPONENTS:\n",
    "        print(f\"No. of files in {dir}\\t{len(dbutils.fs.ls(dir))}\")\n",
    "\n",
    "is_dir_empty()"
   ]
  },
  {
   "cell_type": "markdown",
   "metadata": {
    "application/vnd.databricks.v1+cell": {
     "cellMetadata": {},
     "inputWidgets": {},
     "nuid": "0c61f967-16d2-4161-9f95-db519710a456",
     "showTitle": false,
     "title": ""
    }
   },
   "source": [
    "#### 3.2 Perfoming the following steps:\n",
    "- setup a read stream using cloudfiles and the source data format\n",
    "- setup a write stream using cloudfiles to append to the bronze delta table\n",
    "- enforce schema \n",
    "    * `.schema(bronze_schema)`  \n",
    "- allow a new schema to be merged into the bronze delta table\n",
    "    * if the schema is supposed to evolve over time -> `.option(\"mergeSchema\", \"true\")`\n",
    "- Use the defined BRONZE_CHECKPOINT and BRONZE_DELTA paths defines in the includes\n",
    "- name your raw to bronze stream as bronze_stream\n",
    "- transform the raw data to the bronze data using the data definition at the top of the notebook"
   ]
  },
  {
   "cell_type": "code",
   "execution_count": 0,
   "metadata": {
    "application/vnd.databricks.v1+cell": {
     "cellMetadata": {
      "byteLimit": 2048000,
      "rowLimit": 10000
     },
     "inputWidgets": {},
     "nuid": "d34b6c67-ac64-4cfb-8a85-f84341c87e9f",
     "showTitle": false,
     "title": ""
    }
   },
   "outputs": [],
   "source": [
    "bronze_stream = (\n",
    "    spark.readStream\n",
    "        .format(\"cloudFiles\")\n",
    "        .option(\"cloudFiles.format\", \"json\")\n",
    "        .option(\"cloudFiles.schemaLocation\", BRONZE_CHECKPOINT)\n",
    "        .schema(bronze_schema)\n",
    "\n",
    "        # .load(SAMPLE_TWEETS_PATH)  # SAMPLE RUN \n",
    "        .load(TWEET_SOURCE_PATH)  # IN PRODUCTION\n",
    "\n",
    "        .withColumn(\"source_file\", input_file_name())\n",
    "        .withColumn(\"processing_time\", current_timestamp())\n",
    "        \n",
    "        .writeStream\n",
    "        .queryName(\"bronze_stream\")\n",
    "        .option(\"mode\", \"append\")\n",
    "        .option(\"mergeSchema\", \"true\")  # edge-case: the schema is supposed to evolve over time\n",
    "        .option(\"checkpointLocation\", BRONZE_CHECKPOINT)\n",
    "        .trigger(availableNow=True)\n",
    "        .start(BRONZE_DELTA)\n",
    ")\n",
    "\n",
    "wait_stream_start(spark=spark, namedStream=\"bronze_stream\")"
   ]
  },
  {
   "cell_type": "code",
   "execution_count": 0,
   "metadata": {
    "application/vnd.databricks.v1+cell": {
     "cellMetadata": {},
     "inputWidgets": {},
     "nuid": "ae5d7b8b-08ea-4cac-bfd5-a93aca70a3bc",
     "showTitle": false,
     "title": ""
    }
   },
   "outputs": [],
   "source": [
    "# bronze_stream.awaitTermination()"
   ]
  },
  {
   "cell_type": "code",
   "execution_count": 0,
   "metadata": {
    "application/vnd.databricks.v1+cell": {
     "cellMetadata": {
      "byteLimit": 2048000,
      "rowLimit": 10000
     },
     "inputWidgets": {},
     "nuid": "f8ac1c14-9349-420b-a3a6-3ca0ecc38e3b",
     "showTitle": false,
     "title": ""
    }
   },
   "outputs": [],
   "source": [
    "display(dbutils.fs.ls(BRONZE_CHECKPOINT))"
   ]
  },
  {
   "cell_type": "markdown",
   "metadata": {
    "application/vnd.databricks.v1+cell": {
     "cellMetadata": {},
     "inputWidgets": {},
     "nuid": "9bc3e824-d218-43e5-a43b-4c6dbe31950d",
     "showTitle": false,
     "title": ""
    }
   },
   "source": [
    "## 4.0 Bronze Data Exploratory Data Analysis\n",
    "- How many tweets are captured in your Bronze Table?\n",
    "- Are there any columns that contain Nan or Null values?  If so how many and what will you do in your silver transforms to address this?\n",
    "- Count the number of tweets by each unique user handle and sort the data by descending count.\n",
    "- How many tweets have at least one mention (@) how many tweet have no mentions (@)\n",
    "- Plot a bar chart that shows the top 20 tweeters (users)\n"
   ]
  },
  {
   "cell_type": "markdown",
   "metadata": {
    "application/vnd.databricks.v1+cell": {
     "cellMetadata": {},
     "inputWidgets": {},
     "nuid": "9a6b12aa-5564-47ac-aefe-f2bd84558af0",
     "showTitle": false,
     "title": ""
    }
   },
   "source": [
    "#### 4.1 Number of Tweets"
   ]
  },
  {
   "cell_type": "markdown",
   "metadata": {
    "application/vnd.databricks.v1+cell": {
     "cellMetadata": {},
     "inputWidgets": {},
     "nuid": "ed3ec5ef-af1a-4c02-b92e-af2506972e39",
     "showTitle": false,
     "title": ""
    }
   },
   "source": [
    "##### For static viewing i.e. to view the current count(at the time of execution)"
   ]
  },
  {
   "cell_type": "code",
   "execution_count": 0,
   "metadata": {
    "application/vnd.databricks.v1+cell": {
     "cellMetadata": {
      "byteLimit": 2048000,
      "rowLimit": 10000
     },
     "inputWidgets": {},
     "nuid": "5be8076f-f8f8-459e-ab6e-619e11c8e881",
     "showTitle": false,
     "title": ""
    }
   },
   "outputs": [],
   "source": [
    "delta_df = spark.read.format(\"delta\").load(BRONZE_DELTA)\n",
    "delta_df.createOrReplaceTempView(\"bronze_temp_view\")\n",
    "display(delta_df.limit(5))"
   ]
  },
  {
   "cell_type": "code",
   "execution_count": 0,
   "metadata": {
    "application/vnd.databricks.v1+cell": {
     "cellMetadata": {
      "byteLimit": 2048000,
      "implicitDf": true,
      "rowLimit": 10000
     },
     "inputWidgets": {},
     "nuid": "e8a7f727-81e2-4e79-8925-b748332edb61",
     "showTitle": false,
     "title": ""
    }
   },
   "outputs": [],
   "source": [
    "%sql\n",
    "-- Check the number of currently captured tweets in your Bronze Table?\n",
    "SELECT COUNT(*) FROM bronze_temp_view;"
   ]
  },
  {
   "cell_type": "markdown",
   "metadata": {
    "application/vnd.databricks.v1+cell": {
     "cellMetadata": {},
     "inputWidgets": {},
     "nuid": "06ae1937-8ceb-4103-b410-7fb9d18206cc",
     "showTitle": false,
     "title": ""
    }
   },
   "source": [
    "##### For displaying count dynamically"
   ]
  },
  {
   "cell_type": "code",
   "execution_count": 0,
   "metadata": {
    "application/vnd.databricks.v1+cell": {
     "cellMetadata": {
      "byteLimit": 2048000,
      "rowLimit": 10000
     },
     "inputWidgets": {},
     "nuid": "dea08641-76c7-45cc-9f7d-0c1365a4828b",
     "showTitle": false,
     "title": ""
    }
   },
   "outputs": [],
   "source": [
    "# # Creating or replacing a temporary view to use SQL operations on stream data\n",
    "\n",
    "# bronze_stream_df = (spark.readStream\n",
    "#     .format(\"delta\")\n",
    "#     .load(BRONZE_DELTA))\n",
    "\n",
    "# bronze_stream_df.createOrReplaceTempView(\"temp_bronze_table_view\")"
   ]
  },
  {
   "cell_type": "code",
   "execution_count": 0,
   "metadata": {
    "application/vnd.databricks.v1+cell": {
     "cellMetadata": {
      "byteLimit": 2048000,
      "implicitDf": true,
      "rowLimit": 10000
     },
     "inputWidgets": {},
     "nuid": "cea0daf8-bec2-42e8-9529-f2a7982040d7",
     "showTitle": false,
     "title": ""
    }
   },
   "outputs": [],
   "source": [
    "# %sql\n",
    "# SELECT COUNT(*) FROM temp_bronze_table_view;"
   ]
  },
  {
   "cell_type": "code",
   "execution_count": 0,
   "metadata": {
    "application/vnd.databricks.v1+cell": {
     "cellMetadata": {
      "byteLimit": 2048000,
      "implicitDf": true,
      "rowLimit": 10000
     },
     "inputWidgets": {},
     "nuid": "36c40f4d-54d4-45bf-931b-1c65e3df1525",
     "showTitle": false,
     "title": ""
    }
   },
   "outputs": [],
   "source": [
    "%sql\n",
    "SELECT * FROM temp_bronze_table_view LIMIT 5;"
   ]
  },
  {
   "cell_type": "markdown",
   "metadata": {
    "application/vnd.databricks.v1+cell": {
     "cellMetadata": {},
     "inputWidgets": {},
     "nuid": "d858d9d7-6406-42e6-811c-a0c79a7ac5d5",
     "showTitle": false,
     "title": ""
    }
   },
   "source": [
    "#### 4.2 Are there any columns that contain Nan or Null values? If so how many and what will you do in your silver transforms to address this?"
   ]
  },
  {
   "cell_type": "markdown",
   "metadata": {
    "application/vnd.databricks.v1+cell": {
     "cellMetadata": {},
     "inputWidgets": {},
     "nuid": "e98de6d1-7c00-4c50-ae58-f398b3092ae0",
     "showTitle": false,
     "title": ""
    }
   },
   "source": [
    "##### There doesn't seem to be null values as of now in the columns except for the \"_rescued_data\" column that is created by the Autoloader"
   ]
  },
  {
   "cell_type": "code",
   "execution_count": 0,
   "metadata": {
    "application/vnd.databricks.v1+cell": {
     "cellMetadata": {
      "byteLimit": 2048000,
      "rowLimit": 10000
     },
     "inputWidgets": {},
     "nuid": "6353f959-258a-425b-b9b1-ac22f912f2e7",
     "showTitle": false,
     "title": ""
    }
   },
   "outputs": [],
   "source": [
    "from pyspark.sql.functions import col, sum\n",
    "\n",
    "# Removing the column generated by AutoLoader : \"_rescued_data\"\n",
    "filtered_columns = [c for c in delta_df.columns if c != \"_rescued_data\"]\n",
    "\n",
    "# Select each column, check for nulls, and sum them up\n",
    "exprs = [sum(col(c).isNull().cast(\"int\")).alias(c) for c in filtered_columns]\n",
    "\n",
    "# Execute a single select statement to get null counts for all columns\n",
    "null_counts_df = delta_df.select(*exprs)\n",
    "\n",
    "# Collect the results as a single Row object and print\n",
    "null_counts_row = null_counts_df.collect()[0]\n",
    "\n",
    "for c in filtered_columns:\n",
    "    null_count = null_counts_row[c]\n",
    "    if null_count > 0:\n",
    "        print(f\"The column '{c}' has {null_count} null values.\")\n",
    "    else:\n",
    "        print(f\"The column '{c}' has 0 null values.\")\n"
   ]
  },
  {
   "cell_type": "markdown",
   "metadata": {
    "application/vnd.databricks.v1+cell": {
     "cellMetadata": {},
     "inputWidgets": {},
     "nuid": "ce263da4-5783-4232-b1d2-1049d551bea4",
     "showTitle": false,
     "title": ""
    }
   },
   "source": [
    "#### 4.3 Count the number of tweets by each unique user handle and sort the data by descending count."
   ]
  },
  {
   "cell_type": "code",
   "execution_count": 0,
   "metadata": {
    "application/vnd.databricks.v1+cell": {
     "cellMetadata": {
      "byteLimit": 2048000,
      "rowLimit": 10000
     },
     "inputWidgets": {},
     "nuid": "7e079d38-3805-4687-8cce-01ac16954ce4",
     "showTitle": false,
     "title": ""
    }
   },
   "outputs": [],
   "source": [
    "num_of_tweets_df = delta_df.groupBy(\"user\").count().orderBy(col(\"count\").desc())\n",
    "display(num_of_tweets_df.limit(10))"
   ]
  },
  {
   "cell_type": "markdown",
   "metadata": {
    "application/vnd.databricks.v1+cell": {
     "cellMetadata": {},
     "inputWidgets": {},
     "nuid": "d3789028-efc8-43d2-932e-73fc2345d44e",
     "showTitle": false,
     "title": ""
    }
   },
   "source": [
    "#### 4.4 How many tweets have at least one mention (@) how many tweet have no mentions (@)\n"
   ]
  },
  {
   "cell_type": "code",
   "execution_count": 0,
   "metadata": {
    "application/vnd.databricks.v1+cell": {
     "cellMetadata": {
      "byteLimit": 2048000,
      "rowLimit": 10000
     },
     "inputWidgets": {},
     "nuid": "5f51886c-cd21-4c90-a19e-c2f769943fcd",
     "showTitle": false,
     "title": ""
    }
   },
   "outputs": [],
   "source": [
    "no_mention_tweets_df = delta_df.withColumn(\"has_atleast_one_mention\", col(\"text\").contains(\"@\")).groupBy(\"has_atleast_one_mention\").count()\n",
    "\n",
    "display(no_mention_tweets_df.limit(10))"
   ]
  },
  {
   "cell_type": "markdown",
   "metadata": {
    "application/vnd.databricks.v1+cell": {
     "cellMetadata": {},
     "inputWidgets": {},
     "nuid": "de2eeca7-927a-4240-96ae-3fadd0b46731",
     "showTitle": false,
     "title": ""
    }
   },
   "source": [
    "#### 4.5 Plot a bar chart that shows the top 20 tweeters (users)"
   ]
  },
  {
   "cell_type": "code",
   "execution_count": 0,
   "metadata": {
    "application/vnd.databricks.v1+cell": {
     "cellMetadata": {
      "byteLimit": 2048000,
      "rowLimit": 10000
     },
     "inputWidgets": {},
     "nuid": "9bffa43c-1d9d-44da-8aa3-03cab4d66044",
     "showTitle": false,
     "title": ""
    }
   },
   "outputs": [
    {
     "output_type": "display_data",
     "data": {
      "text/plain": [
       "Databricks visualization. Run in Databricks to view."
      ]
     },
     "metadata": {
      "application/vnd.databricks.v1.subcommand+json": {
       "baseErrorDetails": null,
       "bindings": {},
       "collapsed": false,
       "command": "%python\n__backend_agg_display_orig = display\n__backend_agg_dfs = []\ndef __backend_agg_display_new(df):\n    __backend_agg_df_modules = [\"pandas.core.frame\", \"databricks.koalas.frame\", \"pyspark.sql.dataframe\", \"pyspark.pandas.frame\", \"pyspark.sql.connect.dataframe\"]\n    if (type(df).__module__ in __backend_agg_df_modules and type(df).__name__ == 'DataFrame') or isinstance(df, list):\n        __backend_agg_dfs.append(df)\n\ndisplay = __backend_agg_display_new\n\ndef __backend_agg_user_code_fn():\n    import base64\n    exec(base64.standard_b64decode(\"ZGlzcGxheSh0d2VldHNfY291bnRfZGYp\").decode())\n\ntry:\n    # run user code\n    __backend_agg_user_code_fn()\n\n    #reset display function\n    display = __backend_agg_display_orig\n\n    if len(__backend_agg_dfs) > 0:\n        # create a temp view\n        if type(__backend_agg_dfs[0]).__module__ == \"databricks.koalas.frame\":\n            # koalas dataframe\n            __backend_agg_dfs[0].to_spark().createOrReplaceTempView(\"DatabricksView9bd746c\")\n        elif type(__backend_agg_dfs[0]).__module__ == \"pandas.core.frame\" or isinstance(__backend_agg_dfs[0], list):\n            # pandas dataframe\n            spark.createDataFrame(__backend_agg_dfs[0]).createOrReplaceTempView(\"DatabricksView9bd746c\")\n        else:\n            __backend_agg_dfs[0].createOrReplaceTempView(\"DatabricksView9bd746c\")\n        #run backend agg\n        display(spark.sql(\"\"\"WITH q AS (select * from DatabricksView9bd746c) SELECT `user`,SUM(`count`) `column_93bf89932` FROM q GROUP BY `user`\"\"\"))\n    else:\n        displayHTML(\"dataframe no longer exists. If you're using dataframe.display(), use display(dataframe) instead.\")\n\n\nfinally:\n    spark.sql(\"drop view if exists DatabricksView9bd746c\")\n    display = __backend_agg_display_orig\n    del __backend_agg_display_new\n    del __backend_agg_display_orig\n    del __backend_agg_dfs\n    del __backend_agg_user_code_fn\n\n",
       "commandTitle": "Visualization 1",
       "commandType": "auto",
       "commandVersion": 0,
       "commentThread": [],
       "commentsVisible": false,
       "contentSha256Hex": null,
       "customPlotOptions": {
        "redashChart": [
         {
          "key": "type",
          "value": "CHART"
         },
         {
          "key": "options",
          "value": {
           "alignYAxesAtZero": true,
           "coefficient": 1,
           "columnConfigurationMap": {
            "x": {
             "column": "user",
             "id": "column_93bf89931"
            },
            "y": [
             {
              "column": "count",
              "id": "column_93bf89932",
              "transform": "SUM"
             }
            ]
           },
           "dateTimeFormat": "DD/MM/YYYY HH:mm",
           "direction": {
            "type": "counterclockwise"
           },
           "error_y": {
            "type": "data",
            "visible": true
           },
           "globalSeriesType": "column",
           "isAggregationOn": true,
           "legend": {
            "traceorder": "normal"
           },
           "missingValuesAsZero": true,
           "numberFormat": "0,0.[00000]",
           "percentFormat": "0[.]00%",
           "series": {
            "error_y": {
             "type": "data",
             "visible": true
            },
            "stacking": null
           },
           "seriesOptions": {
            "column_93bf89932": {
             "name": "count",
             "yAxis": 0
            }
           },
           "showDataLabels": false,
           "sizemode": "diameter",
           "sortX": false,
           "sortY": true,
           "swappedAxes": false,
           "textFormat": "",
           "useAggregationsUi": true,
           "valuesOptions": {},
           "version": 2,
           "xAxis": {
            "labels": {
             "enabled": true
            },
            "type": "-"
           },
           "yAxis": [
            {
             "type": "-"
            },
            {
             "opposite": true,
             "type": "-"
            }
           ]
          }
         }
        ]
       },
       "datasetPreviewNameToCmdIdMap": {},
       "diffDeletes": [],
       "diffInserts": [],
       "displayType": "redashChart",
       "error": null,
       "errorDetails": null,
       "errorSummary": null,
       "errorTraceType": null,
       "finishTime": 0,
       "globalVars": {},
       "guid": "",
       "height": "auto",
       "hideCommandCode": false,
       "hideCommandResult": false,
       "iPythonMetadata": null,
       "inputWidgets": {},
       "isLockedInExamMode": false,
       "latestUser": "a user",
       "latestUserId": null,
       "listResultMetadata": null,
       "metadata": {},
       "nuid": "81ac72f7-6776-47d2-8b28-afcbcd2cc7fb",
       "origId": 0,
       "parentHierarchy": [],
       "pivotAggregation": null,
       "pivotColumns": null,
       "position": 39.5,
       "resultDbfsErrorMessage": null,
       "resultDbfsStatus": "INLINED_IN_TREE",
       "results": null,
       "showCommandTitle": false,
       "startTime": 0,
       "state": "input",
       "streamStates": {},
       "subcommandOptions": {
        "queryPlan": {
         "groups": [
          {
           "column": "user",
           "type": "column"
          }
         ],
         "selects": [
          {
           "column": "user",
           "type": "column"
          },
          {
           "alias": "column_93bf89932",
           "args": [
            {
             "column": "count",
             "type": "column"
            }
           ],
           "function": "SUM",
           "type": "function"
          }
         ]
        }
       },
       "submitTime": 0,
       "subtype": "tableResultSubCmd.visualization",
       "tableResultIndex": 0,
       "useConsistentColors": false,
       "version": "CommandV1",
       "width": "auto",
       "workflows": null,
       "xColumns": null,
       "yColumns": null
      }
     },
     "output_type": "display_data"
    }
   ],
   "source": [
    "tweets_count_df = delta_df.groupBy(\"user\").count().orderBy(col(\"count\").desc()).limit(20)\n",
    "\n",
    "\"\"\" Using Matplotlib \"\"\"\n",
    "# plt.figure(figsize=(10, 6))\n",
    "# plt.bar(tweets_count_df.select(\"user\").rdd.flatMap(lambda x: x).collect(), tweets_count_df.select(\"count\").rdd.flatMap(lambda x: x).collect())\n",
    "# plt.xlabel(\"User\")\n",
    "# plt.ylabel(\"Count\")\n",
    "# plt.title(\"Top 20 Users by Tweet Count\")\n",
    "# plt.xticks(rotation=45)\n",
    "# plt.show()\n",
    "\n",
    "\"\"\" Using Databricks display() \"\"\"\n",
    "display(tweets_count_df)"
   ]
  },
  {
   "cell_type": "markdown",
   "metadata": {
    "application/vnd.databricks.v1+cell": {
     "cellMetadata": {},
     "inputWidgets": {},
     "nuid": "38c290b9-a42a-4551-857b-3f461b8a1be6",
     "showTitle": false,
     "title": ""
    }
   },
   "source": [
    "## 5.0 Transform the Bronze Data to Silver Data using a stream\n",
    "- setup a read stream on your bronze delta table\n",
    "- setup a write stream to append to the silver delta table\n",
    "- Use the defined SILVER_CHECKPOINT and SILVER_DELTA paths in the includes\n",
    "- name your bronze to silver stream as silver_stream\n",
    "- transform the bronze data to the silver data using the data definition at the top of the notebook"
   ]
  },
  {
   "cell_type": "markdown",
   "metadata": {
    "application/vnd.databricks.v1+cell": {
     "cellMetadata": {},
     "inputWidgets": {},
     "nuid": "0fe4e1ce-aad4-45db-b88a-dfc098a40ff7",
     "showTitle": false,
     "title": ""
    }
   },
   "source": [
    "#### 5.1 Setting up a read stream on BRONZE Delta table"
   ]
  },
  {
   "cell_type": "code",
   "execution_count": 0,
   "metadata": {
    "application/vnd.databricks.v1+cell": {
     "cellMetadata": {
      "byteLimit": 2048000,
      "rowLimit": 10000
     },
     "inputWidgets": {},
     "nuid": "65b029cb-ba45-4625-a9c1-d0d410a4962b",
     "showTitle": false,
     "title": ""
    }
   },
   "outputs": [],
   "source": [
    "raw_bronze_stream = (spark\n",
    "    .readStream\n",
    "    .format(\"delta\")\n",
    "    .load(BRONZE_DELTA)\n",
    "    )"
   ]
  },
  {
   "cell_type": "code",
   "execution_count": 0,
   "metadata": {
    "application/vnd.databricks.v1+cell": {
     "cellMetadata": {
      "byteLimit": 2048000,
      "rowLimit": 10000
     },
     "inputWidgets": {},
     "nuid": "2559a79b-34e7-41fd-a283-5a20d348e7ff",
     "showTitle": false,
     "title": ""
    }
   },
   "outputs": [],
   "source": [
    "## For clearing the Silver Table data for development\n",
    "\n",
    "# # dbutils.fs.rm(SILVER_CHECKPOINT, True)\n",
    "# # dbutils.fs.rm(SILVER_DELTA, True)\n",
    "\n",
    "# dbutils.fs.mkdirs(SILVER_CHECKPOINT)\n",
    "# dbutils.fs.mkdirs(SILVER_DELTA)"
   ]
  },
  {
   "cell_type": "markdown",
   "metadata": {
    "application/vnd.databricks.v1+cell": {
     "cellMetadata": {},
     "inputWidgets": {},
     "nuid": "124268d5-0f8c-460d-8c42-b1d50a4f17da",
     "showTitle": false,
     "title": ""
    }
   },
   "source": [
    "#### 5.2 Transforming Bronze Data to Silver Data"
   ]
  },
  {
   "cell_type": "code",
   "execution_count": 0,
   "metadata": {
    "application/vnd.databricks.v1+cell": {
     "cellMetadata": {
      "byteLimit": 2048000,
      "rowLimit": 10000
     },
     "inputWidgets": {},
     "nuid": "241d89b7-f38c-4f02-8473-841a1f7a88a3",
     "showTitle": false,
     "title": ""
    }
   },
   "outputs": [],
   "source": [
    "# Setting the configuration on the SparkSession's conf\n",
    "spark.conf.set(\"spark.sql.legacy.timeParserPolicy\", \"LEGACY\")\n",
    "\n",
    "format_str = \"EEE MMM dd HH:mm:ss z yyyy\"\n",
    "pattern = r\"(?<=@)\\w+(?=\\s)\"\n",
    "extract_mentions = udf(lambda text: [word[1:] for word in text.split() if word.startswith('@')], ArrayType(StringType()))\n",
    "\n",
    "transformed_stream = (raw_bronze_stream\n",
    "                      .filter(F.col(\"text\").like(\"%@%\"))\n",
    "                      .withColumn(\"timestamp\", to_timestamp(F.col(\"date\"), format_str))\n",
    "                      .withColumn(\"mention_array\", extract_mentions(col(\"text\")))\n",
    "                      .select(\"*\", explode(col(\"mention_array\")).alias(\"mention\"))\n",
    "                      .withColumn(\"cleaned_text\", regexp_replace(F.col(\"text\"), r\"@(\\w+)\\s?\", \"\"))\n",
    "                      .drop('date', 'user', 'text', 'source_file', 'processing_time', 'mention_array')\n",
    "                     )"
   ]
  },
  {
   "cell_type": "markdown",
   "metadata": {
    "application/vnd.databricks.v1+cell": {
     "cellMetadata": {},
     "inputWidgets": {},
     "nuid": "31f79da9-19e5-40f7-84bd-fb74cc045fb1",
     "showTitle": false,
     "title": ""
    }
   },
   "source": [
    "#### 5.3 Setting up a write stream on BRONZE Delta table\n",
    "* Using SILVER_CHECKPOINT\n",
    "* Using SILVER_DELTA \n",
    "* Naming the bronze to silver stream as silver_stream"
   ]
  },
  {
   "cell_type": "code",
   "execution_count": 0,
   "metadata": {
    "application/vnd.databricks.v1+cell": {
     "cellMetadata": {
      "byteLimit": 2048000,
      "rowLimit": 10000
     },
     "inputWidgets": {},
     "nuid": "d5f9514e-1da3-4bde-b2fe-186212cd9c23",
     "showTitle": false,
     "title": ""
    }
   },
   "outputs": [],
   "source": [
    "silver_stream = (transformed_stream\n",
    "                .writeStream\n",
    "                .queryName(\"silver_stream\")\n",
    "                .option(\"mergeSchema\", \"true\")\n",
    "                .option(\"checkpointLocation\", SILVER_CHECKPOINT)\n",
    "                .trigger(availableNow=True)\n",
    "                .start(SILVER_DELTA)\n",
    ")\n",
    "\n",
    "wait_stream_start(spark=spark, namedStream=\"silver_stream\")"
   ]
  },
  {
   "cell_type": "code",
   "execution_count": 0,
   "metadata": {
    "application/vnd.databricks.v1+cell": {
     "cellMetadata": {},
     "inputWidgets": {},
     "nuid": "c4c41dc7-1eef-4fde-805e-51635c0cc0b9",
     "showTitle": false,
     "title": ""
    }
   },
   "outputs": [],
   "source": [
    "silver_stream.awaitTermination()"
   ]
  },
  {
   "cell_type": "code",
   "execution_count": 0,
   "metadata": {
    "application/vnd.databricks.v1+cell": {
     "cellMetadata": {
      "byteLimit": 2048000,
      "rowLimit": 10000
     },
     "inputWidgets": {},
     "nuid": "d182d673-7bfb-43f9-8183-92bb4266147f",
     "showTitle": false,
     "title": ""
    }
   },
   "outputs": [],
   "source": [
    "silver_delta_df = spark.read.format(\"delta\").load(SILVER_DELTA)\n",
    "silver_delta_df.createOrReplaceTempView(\"silver_temp_view\")"
   ]
  },
  {
   "cell_type": "code",
   "execution_count": 0,
   "metadata": {
    "application/vnd.databricks.v1+cell": {
     "cellMetadata": {
      "byteLimit": 2048000,
      "rowLimit": 10000
     },
     "inputWidgets": {},
     "nuid": "890ade89-b77b-41cf-9b47-7cc28c731f9e",
     "showTitle": false,
     "title": ""
    }
   },
   "outputs": [],
   "source": [
    "display(silver_delta_df.limit(10))"
   ]
  },
  {
   "cell_type": "code",
   "execution_count": 0,
   "metadata": {
    "application/vnd.databricks.v1+cell": {
     "cellMetadata": {
      "byteLimit": 2048000,
      "implicitDf": true,
      "rowLimit": 10000
     },
     "inputWidgets": {},
     "nuid": "19fd4f99-8237-40fe-bc96-7fe05836bd34",
     "showTitle": false,
     "title": ""
    }
   },
   "outputs": [],
   "source": [
    "%sql\n",
    "SELECT COUNT(*) FROM silver_temp_view;"
   ]
  },
  {
   "cell_type": "markdown",
   "metadata": {
    "application/vnd.databricks.v1+cell": {
     "cellMetadata": {},
     "inputWidgets": {},
     "nuid": "9ee38aba-e340-4766-8339-71ef2ecfde3a",
     "showTitle": false,
     "title": ""
    }
   },
   "source": [
    "## 6.0 Transform the Silver Data to Gold Data using a stream\n",
    "- setup a read stream on your silver delta table\n",
    "- setup a write stream to append to the gold delta table\n",
    "- Use the defined GOLD_CHECKPOINT and GOLD_DELTA paths defines in the includes\n",
    "- name your silver to gold stream as gold_stream\n",
    "- transform the silver data to the gold data using the data definition at the top of the notebook\n",
    "- Load the pretrained transformer sentiment classifier from the MODEL_NAME at the production level from the MLflow registry\n",
    "- Use a spark UDF to parallelize the inference across your silver data"
   ]
  },
  {
   "cell_type": "code",
   "execution_count": 0,
   "metadata": {
    "application/vnd.databricks.v1+cell": {
     "cellMetadata": {
      "byteLimit": 2048000,
      "rowLimit": 10000
     },
     "inputWidgets": {},
     "nuid": "3fbb0072-edea-4c06-90f5-ab9d2cb27fc6",
     "showTitle": false,
     "title": ""
    }
   },
   "outputs": [],
   "source": [
    "\"\"\" To remove and rerun the silver -> gold flow \"\"\"\n",
    "# dbutils.fs.rm(GOLD_CHECKPOINT, True)\n",
    "# dbutils.fs.rm(GOLD_DELTA, True)\n",
    "\n",
    "# dbutils.fs.mkdirs(GOLD_CHECKPOINT)\n",
    "# dbutils.fs.mkdirs(GOLD_DELTA)"
   ]
  },
  {
   "cell_type": "markdown",
   "metadata": {
    "application/vnd.databricks.v1+cell": {
     "cellMetadata": {},
     "inputWidgets": {},
     "nuid": "607db416-fc0f-44f3-9a84-5d6d4261d77a",
     "showTitle": false,
     "title": ""
    }
   },
   "source": [
    "#### 6.1 Setting up a read stream on SILVER Delta table"
   ]
  },
  {
   "cell_type": "code",
   "execution_count": 0,
   "metadata": {
    "application/vnd.databricks.v1+cell": {
     "cellMetadata": {
      "byteLimit": 2048000,
      "rowLimit": 10000
     },
     "inputWidgets": {},
     "nuid": "31e8949d-c016-44a7-9f03-65f471dfd22d",
     "showTitle": false,
     "title": ""
    }
   },
   "outputs": [],
   "source": [
    "raw_silver_stream = (spark\n",
    "    .readStream\n",
    "    .format(\"delta\")\n",
    "    .load(SILVER_DELTA)\n",
    ")"
   ]
  },
  {
   "cell_type": "markdown",
   "metadata": {
    "application/vnd.databricks.v1+cell": {
     "cellMetadata": {},
     "inputWidgets": {},
     "nuid": "fcb0daa9-243a-42af-ba76-934a672ad410",
     "showTitle": false,
     "title": ""
    },
    "jupyter": {
     "outputs_hidden": true
    }
   },
   "source": [
    "#### 6.2 Loading the Transformer"
   ]
  },
  {
   "cell_type": "code",
   "execution_count": 0,
   "metadata": {
    "application/vnd.databricks.v1+cell": {
     "cellMetadata": {
      "byteLimit": 2048000,
      "rowLimit": 10000
     },
     "inputWidgets": {},
     "nuid": "e3ab340b-e79a-4967-8ac4-abcd27ec1105",
     "showTitle": false,
     "title": ""
    }
   },
   "outputs": [],
   "source": [
    "sentiment_analysis_udf = mlflow.pyfunc.spark_udf(spark, \"models:/HF_TWEET_SENTIMENT/Production\")"
   ]
  },
  {
   "cell_type": "markdown",
   "metadata": {
    "application/vnd.databricks.v1+cell": {
     "cellMetadata": {
      "byteLimit": 2048000,
      "rowLimit": 10000
     },
     "inputWidgets": {},
     "nuid": "b20fd677-bd1a-4bad-ac19-a7e039b0869c",
     "showTitle": false,
     "title": ""
    }
   },
   "source": [
    "#### 6.3 Transforming the GOLD Delta table\n",
    "\n",
    "* Transforming the silver data to the gold data using the schema definition at the top of the notebook\n",
    "* Used a spark UDF to parallelize the inference across your silver data"
   ]
  },
  {
   "cell_type": "code",
   "execution_count": 0,
   "metadata": {
    "application/vnd.databricks.v1+cell": {
     "cellMetadata": {
      "byteLimit": 2048000,
      "rowLimit": 10000
     },
     "inputWidgets": {},
     "nuid": "f07dd2be-ec57-4294-96c4-756f0a4dfd67",
     "showTitle": false,
     "title": ""
    }
   },
   "outputs": [],
   "source": [
    "raw_gold_stream = (raw_silver_stream\n",
    "               .withColumn(\"sentiment_id\", \n",
    "                           F.when(F.col(\"sentiment\") == \"positive\", 1)\n",
    "                           .when(F.col(\"sentiment\") == \"negative\", 0)\n",
    "                           .when(F.col(\"sentiment\") == \"neutral\", 2)\n",
    "                           .otherwise(3))\n",
    "               \n",
    "               .withColumn(\"predictions\", sentiment_analysis_udf(F.col(\"cleaned_text\")))\n",
    "\n",
    "               .withColumn(\"predicted_score\", F.col(\"predictions\")['score'])\n",
    "               \n",
    "               .withColumn(\"predicted_sentiment\",\n",
    "                           F.when(F.col(\"predictions\")[\"label\"] == \"POS\", \"positive\")\n",
    "                           .when(F.col(\"predictions\")[\"label\"] == \"NEG\", \"negative\")\n",
    "                           .when(F.col(\"predictions\")[\"label\"] == \"NEU\", \"neutral\")\n",
    "                           .otherwise(3))\n",
    "               \n",
    "               .withColumn(\"predicted_sentiment_id\",\n",
    "                           F.when(F.col(\"predicted_sentiment\") == \"positive\", 1)\n",
    "                           .when(F.col(\"predicted_sentiment\") == \"negative\", 0)\n",
    "                           .when(F.col(\"predicted_sentiment\") == \"neutral\", 2)\n",
    "                           .otherwise(3))\n",
    "              )"
   ]
  },
  {
   "cell_type": "markdown",
   "metadata": {
    "application/vnd.databricks.v1+cell": {
     "cellMetadata": {
      "byteLimit": 2048000,
      "rowLimit": 10000
     },
     "inputWidgets": {},
     "nuid": "cda5990d-e5a3-45ec-8911-eaf1cf67d58e",
     "showTitle": false,
     "title": ""
    }
   },
   "source": [
    "#### 6.4 Setting up a write stream to append to the gold delta table\n",
    "\n",
    "* Using the defined `GOLD_CHECKPOINT`\n",
    "* Using the `GOLD_DELTA` \n",
    "* Named silver to gold stream as `gold_stream`"
   ]
  },
  {
   "cell_type": "code",
   "execution_count": 0,
   "metadata": {
    "application/vnd.databricks.v1+cell": {
     "cellMetadata": {
      "byteLimit": 2048000,
      "rowLimit": 10000
     },
     "inputWidgets": {},
     "nuid": "ada04683-7d6b-4865-9634-82c7f53bd8a0",
     "showTitle": false,
     "title": ""
    }
   },
   "outputs": [],
   "source": [
    "gold_stream = (raw_gold_stream\n",
    "    .writeStream\n",
    "    .queryName(\"gold_stream\")\n",
    "    .option(\"mergeSchema\", \"true\")\n",
    "    .option(\"checkpointLocation\", GOLD_CHECKPOINT)\n",
    "    .trigger(availableNow=True)\n",
    "    .start(GOLD_DELTA)\n",
    ")\n",
    "\n",
    "wait_stream_start(spark=spark, namedStream=\"gold_stream\")"
   ]
  },
  {
   "cell_type": "code",
   "execution_count": 0,
   "metadata": {
    "application/vnd.databricks.v1+cell": {
     "cellMetadata": {},
     "inputWidgets": {},
     "nuid": "7080a5e9-694b-4c13-93cc-4075f629c056",
     "showTitle": false,
     "title": ""
    }
   },
   "outputs": [],
   "source": [
    "gold_stream.awaitTermination()"
   ]
  },
  {
   "cell_type": "code",
   "execution_count": 0,
   "metadata": {
    "application/vnd.databricks.v1+cell": {
     "cellMetadata": {
      "byteLimit": 2048000,
      "rowLimit": 10000
     },
     "inputWidgets": {},
     "nuid": "9c631287-dbc3-4309-b47b-93693d857f5b",
     "showTitle": false,
     "title": ""
    }
   },
   "outputs": [],
   "source": [
    "gold_delta_df = spark.read.format(\"delta\").load(GOLD_DELTA)\n",
    "gold_delta_df.createOrReplaceTempView(\"gold_temp_view\")"
   ]
  },
  {
   "cell_type": "code",
   "execution_count": 0,
   "metadata": {
    "application/vnd.databricks.v1+cell": {
     "cellMetadata": {
      "byteLimit": 2048000,
      "rowLimit": 10000
     },
     "inputWidgets": {},
     "nuid": "af49deee-9c57-4c7d-b443-f01028f4f298",
     "showTitle": false,
     "title": ""
    }
   },
   "outputs": [],
   "source": [
    "display(gold_delta_df.limit(10))"
   ]
  },
  {
   "cell_type": "markdown",
   "metadata": {
    "application/vnd.databricks.v1+cell": {
     "cellMetadata": {},
     "inputWidgets": {},
     "nuid": "0494d8b4-5a55-47fc-af12-47325f34a303",
     "showTitle": false,
     "title": ""
    }
   },
   "source": [
    "## 7.0 Capture the accuracy metrics from the gold table in MLflow\n",
    "Store the following in an MLflow experiment run:\n",
    "- Store the precision, recall, and F1-score as MLflow metrics\n",
    "- Store an image of the confusion matrix as an MLflow artifact\n",
    "- Store the mdoel name and the MLflow version that was used as an MLflow parameters\n",
    "- Store the version of the Delta Table (input-silver) as an MLflow parameter"
   ]
  },
  {
   "cell_type": "code",
   "execution_count": 0,
   "metadata": {
    "application/vnd.databricks.v1+cell": {
     "cellMetadata": {
      "byteLimit": 2048000,
      "rowLimit": 10000
     },
     "inputWidgets": {},
     "nuid": "ef0864b4-4b8d-4be8-b664-8c4c85f11cf7",
     "showTitle": false,
     "title": ""
    }
   },
   "outputs": [],
   "source": [
    "# Creating a temp view\n",
    "gold_temp_df = spark.sql(\"SELECT * FROM gold_temp_view\")\n",
    "\n",
    "gold_temp_df = gold_temp_df.withColumn(\"predicted_sentiment_id\", col(\"predicted_sentiment_id\").cast(\"double\")).withColumn(\"sentiment_id\", col(\"sentiment_id\").cast(\"double\"))"
   ]
  },
  {
   "cell_type": "markdown",
   "metadata": {
    "application/vnd.databricks.v1+cell": {
     "cellMetadata": {
      "byteLimit": 2048000,
      "rowLimit": 10000
     },
     "inputWidgets": {},
     "nuid": "c5b6c57b-2584-4752-a347-7e8cb2c6910f",
     "showTitle": false,
     "title": ""
    }
   },
   "source": [
    "#### Helper Function Definitions for ML FLow run "
   ]
  },
  {
   "cell_type": "code",
   "execution_count": 0,
   "metadata": {
    "application/vnd.databricks.v1+cell": {
     "cellMetadata": {
      "byteLimit": 2048000,
      "rowLimit": 10000
     },
     "inputWidgets": {},
     "nuid": "db3f5b2e-2a1d-4ec7-ab9b-6eecc25202ba",
     "showTitle": false,
     "title": ""
    }
   },
   "outputs": [],
   "source": [
    "def log_confusion_matrix(predictions_df: DataFrame, label_col: str, prediction_col: str):\n",
    "    \"\"\"\n",
    "    Log a confusion matrix as an image artifact in MLflow.\n",
    "    \"\"\"\n",
    "    # Extracting labels\n",
    "    labels = predictions_df.select(label_col).distinct().rdd.flatMap(lambda x: x).collect()\n",
    "    \n",
    "    # Convert to RDD for MulticlassMetrics\n",
    "    prediction_and_labels = predictions_df.select(prediction_col, label_col).rdd\n",
    "    metrics = MulticlassMetrics(prediction_and_labels)\n",
    "    confusion_matrix = metrics.confusionMatrix().toArray()\n",
    "\n",
    "    # Plot the confusion matrix using seaborn\n",
    "    plt.figure(figsize=(10, 7))\n",
    "    sns.heatmap(confusion_matrix, annot=True, fmt='g', cmap='Blues', xticklabels=labels, yticklabels=labels)\n",
    "    plt.xlabel('Predicted Labels')\n",
    "    plt.ylabel('True Labels')\n",
    "    plt.title('Confusion Matrix')\n",
    "\n",
    "    # Save the plot in a temporary directory\n",
    "    with tempfile.TemporaryDirectory() as tmpdirname:\n",
    "        plot_path = os.path.join(tmpdirname, \"confusion_matrix.png\")\n",
    "        plt.savefig(plot_path)\n",
    "        plt.close()\n",
    "        # Log confusion matrix plot as an artifact\n",
    "        mlflow.log_artifact(plot_path)"
   ]
  },
  {
   "cell_type": "code",
   "execution_count": 0,
   "metadata": {
    "application/vnd.databricks.v1+cell": {
     "cellMetadata": {
      "byteLimit": 2048000,
      "rowLimit": 10000
     },
     "inputWidgets": {},
     "nuid": "e1e08a91-8ff6-4adb-9253-8c551931259d",
     "showTitle": false,
     "title": ""
    }
   },
   "outputs": [],
   "source": [
    "def log_metrics(predictions_df: DataFrame, label_col: str, prediction_col: str):\n",
    "    \"\"\"\n",
    "    Log precision, recall, and F1-score as MLflow metrics.\n",
    "    \"\"\"\n",
    "    evaluator = MulticlassClassificationEvaluator(labelCol=label_col, predictionCol=prediction_col)\n",
    "\n",
    "    # Logging overall accuracy and F1 score\n",
    "    accuracy = evaluator.evaluate(predictions_df, {evaluator.metricName: \"accuracy\"})\n",
    "    f1 = evaluator.evaluate(predictions_df, {evaluator.metricName: \"f1\"})\n",
    "    mlflow.log_metric(\"accuracy\", accuracy)\n",
    "    mlflow.log_metric(\"f1_score\", f1)\n",
    "\n",
    "    # Using MulticlassMetrics to log precision, recall, and F1 score per label\n",
    "    prediction_and_labels = predictions_df.select(prediction_col, label_col).rdd\n",
    "    metrics = MulticlassMetrics(prediction_and_labels)\n",
    "    labels = predictions_df.select(label_col).distinct().rdd.flatMap(lambda x: x).collect()\n",
    "\n",
    "    for label in labels:\n",
    "        precision = metrics.precision(label)\n",
    "        recall = metrics.recall(label)\n",
    "        f1_score = metrics.fMeasure(label)\n",
    "\n",
    "        mlflow.log_metric(f\"precision_{label}\", precision)\n",
    "        mlflow.log_metric(f\"recall_{label}\", recall)\n",
    "        mlflow.log_metric(f\"f1_score_{label}\", f1_score)"
   ]
  },
  {
   "cell_type": "markdown",
   "metadata": {
    "application/vnd.databricks.v1+cell": {
     "cellMetadata": {
      "byteLimit": 2048000,
      "rowLimit": 10000
     },
     "inputWidgets": {},
     "nuid": "85af6b0f-77c9-4438-a32f-dfe7701f98aa",
     "showTitle": false,
     "title": ""
    }
   },
   "source": [
    "#### Implementing a MLflow run"
   ]
  },
  {
   "cell_type": "code",
   "execution_count": 0,
   "metadata": {
    "application/vnd.databricks.v1+cell": {
     "cellMetadata": {},
     "inputWidgets": {},
     "nuid": "2d1c298c-324b-4699-a710-532be3e2c279",
     "showTitle": false,
     "title": ""
    }
   },
   "outputs": [],
   "source": [
    "# CONFIGURABLE PARAMETERS:\n",
    "MODEL_NAME = \"m1.3\"\n",
    "\n",
    "delta_table = DeltaTable.forPath(spark, SILVER_DELTA)\n",
    "DELTA_TABLE_VERSION = delta_table.history().select(\"version\").first().version\n",
    "\n",
    "with mlflow.start_run(run_name=\"Sentiment_Analysis_Experiment_updated_2.0\"):\n",
    "\n",
    "    log_confusion_matrix(gold_temp_df, \"sentiment_id\", \"predicted_sentiment_id\")\n",
    "    log_metrics(gold_temp_df, \"sentiment_id\", \"predicted_sentiment_id\")\n",
    "\n",
    "    mlflow.log_param(\"model_name\", MODEL_NAME)\n",
    "    mlflow.log_param(\"mlflow_version\", mlflow.__version__)\n",
    "    mlflow.log_param(\"delta_table_version\", DELTA_TABLE_VERSION)\n"
   ]
  },
  {
   "cell_type": "code",
   "execution_count": 0,
   "metadata": {
    "application/vnd.databricks.v1+cell": {
     "cellMetadata": {
      "byteLimit": 2048000,
      "rowLimit": 10000
     },
     "inputWidgets": {},
     "nuid": "71081367-331e-4809-a5f9-8d18ba0ca8bd",
     "showTitle": false,
     "title": ""
    }
   },
   "outputs": [],
   "source": [
    "# Assuming predictionAndLabels is already defined as your dataframe's RDD\n",
    "metrics = MulticlassMetrics(predictionAndLabels)\n",
    "\n",
    "# Compute confusion matrix\n",
    "confusion_matrix = metrics.confusionMatrix().toArray()\n",
    "\n",
    "# Plot confusion matrix using seaborn\n",
    "plt.figure(figsize=(10, 7))\n",
    "sns.heatmap(confusion_matrix, annot=True, fmt='g', cmap='Blues',\n",
    "            xticklabels=['0.0', '1.0', '2.0'], yticklabels=['0.0', '1.0', '2.0'])\n",
    "plt.xlabel('Predicted Labels')\n",
    "plt.ylabel('True Labels')\n",
    "plt.title('Confusion Matrix')\n",
    "plt.show()"
   ]
  },
  {
   "cell_type": "markdown",
   "metadata": {
    "application/vnd.databricks.v1+cell": {
     "cellMetadata": {},
     "inputWidgets": {},
     "nuid": "81e0e2de-b872-4698-81cc-1669646c2183",
     "showTitle": false,
     "title": ""
    }
   },
   "source": [
    "## 8.0 Application Data Processing and Visualization\n",
    "- How many mentions are there in the gold data total?\n",
    "- Count the number of neutral, positive and negative tweets for each mention in new columns\n",
    "- Capture the total for each mention in a new column\n",
    "- Sort the mention count totals in descending order\n",
    "- Plot a bar chart of the top 20 mentions with positive sentiment (the people who are in favor)\n",
    "- Plot a bar chart of the top 20 mentions with negative sentiment (the people who are the vilians)\n",
    "\n",
    "You may want to use the \"Loop Application\" widget to control whether you repeateded display the latest plots while the data comes in from your streams before moving on to the next section and cleaning up your run.\n",
    "\n",
    "*note: A mention is a specific twitter user that has been \"mentioned\" in a tweet with an @user reference."
   ]
  },
  {
   "cell_type": "markdown",
   "metadata": {
    "application/vnd.databricks.v1+cell": {
     "cellMetadata": {},
     "inputWidgets": {},
     "nuid": "54837537-2acb-4e77-b035-a7bb085586ab",
     "showTitle": false,
     "title": ""
    }
   },
   "source": [
    "#### 8.1 How many mentions are there in the gold data total?"
   ]
  },
  {
   "cell_type": "code",
   "execution_count": 0,
   "metadata": {
    "application/vnd.databricks.v1+cell": {
     "cellMetadata": {
      "byteLimit": 2048000,
      "rowLimit": 10000
     },
     "inputWidgets": {},
     "nuid": "8250667b-eaa5-48a1-90c7-bfe11e666e32",
     "showTitle": false,
     "title": ""
    }
   },
   "outputs": [],
   "source": [
    "non_null_count = gold_delta_df.select(col('mention')).filter(col('mention').isNotNull()).count()\n",
    "print(f\"Total number of Mentions in the gold data :\\t{non_null_count}\")"
   ]
  },
  {
   "cell_type": "markdown",
   "metadata": {
    "application/vnd.databricks.v1+cell": {
     "cellMetadata": {},
     "inputWidgets": {},
     "nuid": "6c0be4e5-ad28-4fe5-894d-16649337ce25",
     "showTitle": false,
     "title": ""
    }
   },
   "source": [
    "#### 8.2 EDA \n",
    "* Count the number of neutral, positive and negative tweets for each mention in new columns\n",
    "* Capture the total for each mention in a new column\n",
    "* Sort the mention count totals in descending order"
   ]
  },
  {
   "cell_type": "code",
   "execution_count": 0,
   "metadata": {
    "application/vnd.databricks.v1+cell": {
     "cellMetadata": {
      "byteLimit": 2048000,
      "rowLimit": 10000
     },
     "inputWidgets": {},
     "nuid": "acd5899d-191c-495c-9f44-9077131cc47a",
     "showTitle": false,
     "title": ""
    }
   },
   "outputs": [],
   "source": [
    "\n",
    "# Grouping by mention and sentiment, and count each combination\n",
    "mention_sentiment_counts = gold_delta_df.groupby('mention', 'predicted_sentiment').count()\n",
    "\n",
    "# Pivoting the DataFrame to transform sentiments into separate columns\n",
    "pivot_df = mention_sentiment_counts.groupBy('mention').pivot('predicted_sentiment', ['negative', 'neutral', 'positive']).sum('count')\n",
    "\n",
    "pivot_df = pivot_df.na.fill(0)\n",
    "\n",
    "# Capturing the total number of each mention in a new `total` column\n",
    "pivot_df = pivot_df.withColumn('total', col('negative') + col('neutral') + col('positive'))\n",
    "\n",
    "# Sorting rows in descending order based on total count of mention\n",
    "pivot_df = pivot_df.orderBy(col('total').desc())\n",
    "\n",
    "display(pivot_df)"
   ]
  },
  {
   "cell_type": "markdown",
   "metadata": {
    "application/vnd.databricks.v1+cell": {
     "cellMetadata": {},
     "inputWidgets": {},
     "nuid": "c6a28fc8-c8e0-4518-aac0-35101e79fbdd",
     "showTitle": false,
     "title": ""
    }
   },
   "source": [
    "#### Plotting the most frequent Mentions with POSITIVE sentiment"
   ]
  },
  {
   "cell_type": "code",
   "execution_count": 0,
   "metadata": {
    "application/vnd.databricks.v1+cell": {
     "cellMetadata": {
      "byteLimit": 2048000,
      "rowLimit": 10000
     },
     "inputWidgets": {},
     "nuid": "bbeed2ab-39fb-4633-b7b7-027a030f10ba",
     "showTitle": false,
     "title": ""
    }
   },
   "outputs": [],
   "source": [
    "top_20_positive = pivot_df.orderBy(col('positive').desc()).limit(20).toPandas()\n",
    "\n",
    "plt.figure(figsize=(18, 12))\n",
    "top_20_positive.plot(kind='bar', x='mention', y='positive', color='green', legend=None)\n",
    "\n",
    "plt.title(\"Top 20 Mentions with Positive Sentiment\")\n",
    "plt.xlabel(\"Mentions\")\n",
    "plt.ylabel(\"Positive Sentiment Count\")\n",
    "plt.xticks(rotation=45)\n",
    "plt.tight_layout()\n",
    "plt.show()\n"
   ]
  },
  {
   "cell_type": "markdown",
   "metadata": {
    "application/vnd.databricks.v1+cell": {
     "cellMetadata": {},
     "inputWidgets": {},
     "nuid": "fb6fff7b-2bc5-479c-a6a5-49909cb9e1fc",
     "showTitle": false,
     "title": ""
    }
   },
   "source": [
    "#### Plotting the most frequent Mentions with NEGATIVE sentiment"
   ]
  },
  {
   "cell_type": "code",
   "execution_count": 0,
   "metadata": {
    "application/vnd.databricks.v1+cell": {
     "cellMetadata": {
      "byteLimit": 2048000,
      "rowLimit": 10000
     },
     "inputWidgets": {},
     "nuid": "9bf3ab87-c64c-450f-91c0-811b318b016d",
     "showTitle": false,
     "title": ""
    }
   },
   "outputs": [],
   "source": [
    "top_20_negative = pivot_df.orderBy(col('negative').desc()).limit(20).toPandas()\n",
    "\n",
    "plt.figure(figsize=(18, 12))\n",
    "top_20_negative.plot(kind='bar', x='mention', y='negative', color='red', legend=None)\n",
    "\n",
    "plt.title(\"Top 20 Mentions with Negative Sentiment\")\n",
    "plt.xlabel(\"Mentions\")\n",
    "plt.ylabel(\"Negative Sentiment Count\")\n",
    "plt.xticks(rotation=45)\n",
    "plt.tight_layout()\n",
    "plt.show()"
   ]
  },
  {
   "cell_type": "markdown",
   "metadata": {
    "application/vnd.databricks.v1+cell": {
     "cellMetadata": {},
     "inputWidgets": {},
     "nuid": "5d5add3f-0c13-4d81-86d8-12cf3cfdd2c8",
     "showTitle": false,
     "title": ""
    }
   },
   "source": [
    "## 9.0 Clean up and completion of your pipeline\n",
    "- using the utilities what streams are running? If any.\n",
    "- Stop all active streams\n",
    "- print out the elapsed time of your notebook."
   ]
  },
  {
   "cell_type": "markdown",
   "metadata": {
    "application/vnd.databricks.v1+cell": {
     "cellMetadata": {},
     "inputWidgets": {},
     "nuid": "589b8d0b-0e48-4593-a4e4-b61fb6eaadc3",
     "showTitle": false,
     "title": ""
    }
   },
   "source": [
    "#### Active Streams are: "
   ]
  },
  {
   "cell_type": "code",
   "execution_count": 0,
   "metadata": {
    "application/vnd.databricks.v1+cell": {
     "cellMetadata": {
      "byteLimit": 2048000,
      "rowLimit": 10000
     },
     "inputWidgets": {},
     "nuid": "79a9155b-b600-459a-817d-dabb6cf21bba",
     "showTitle": false,
     "title": ""
    }
   },
   "outputs": [],
   "source": [
    "print(f\"{list(stream.name for stream in spark.streams.active)}\")"
   ]
  },
  {
   "cell_type": "markdown",
   "metadata": {
    "application/vnd.databricks.v1+cell": {
     "cellMetadata": {},
     "inputWidgets": {},
     "nuid": "9c18fcbc-7699-41df-9d1b-03e07fc027f6",
     "showTitle": false,
     "title": ""
    }
   },
   "source": [
    "#### ⚠️ ALERT : Stopping all active stream"
   ]
  },
  {
   "cell_type": "code",
   "execution_count": 0,
   "metadata": {
    "application/vnd.databricks.v1+cell": {
     "cellMetadata": {
      "byteLimit": 2048000,
      "rowLimit": 10000
     },
     "inputWidgets": {},
     "nuid": "0304e685-c26e-447d-b230-c37266f30003",
     "showTitle": false,
     "title": ""
    }
   },
   "outputs": [],
   "source": [
    "stop_all_streams()"
   ]
  },
  {
   "cell_type": "markdown",
   "metadata": {
    "application/vnd.databricks.v1+cell": {
     "cellMetadata": {},
     "inputWidgets": {},
     "nuid": "ae79d66b-d2c8-41d3-bc2d-14111c3b4dad",
     "showTitle": false,
     "title": ""
    }
   },
   "source": [
    "#### Time Elapsed in Running the Notebook"
   ]
  },
  {
   "cell_type": "code",
   "execution_count": 0,
   "metadata": {
    "application/vnd.databricks.v1+cell": {
     "cellMetadata": {
      "byteLimit": 2048000,
      "rowLimit": 10000
     },
     "inputWidgets": {},
     "nuid": "9d950dfd-20ca-449c-b41e-826376c7d612",
     "showTitle": false,
     "title": ""
    }
   },
   "outputs": [],
   "source": [
    "# Get the notebooks ending time note START_TIME was established in the include file when the notebook started.\n",
    "END_TIME = time.time()"
   ]
  },
  {
   "cell_type": "code",
   "execution_count": 0,
   "metadata": {
    "application/vnd.databricks.v1+cell": {
     "cellMetadata": {
      "byteLimit": 2048000,
      "rowLimit": 10000
     },
     "inputWidgets": {},
     "nuid": "98064b91-b937-4642-bd6d-ac38aa341274",
     "showTitle": false,
     "title": ""
    }
   },
   "outputs": [],
   "source": [
    "print(f\"Time elapsed in the notebook:\\t{round((END_TIME - START_TIME))/60} mins\")"
   ]
  },
  {
   "cell_type": "markdown",
   "metadata": {
    "application/vnd.databricks.v1+cell": {
     "cellMetadata": {},
     "inputWidgets": {},
     "nuid": "b88fc0e5-f50c-4ed1-9480-16a4c8a44b30",
     "showTitle": false,
     "title": ""
    }
   },
   "source": [
    "## 10.0 How Optimized is your Spark Application (Grad Students Only)\n",
    "Graduate students (registered for the DSCC-402 section of the course) are required to do this section.  This is a written analysis using the Spark UI (link to screen shots) that support your analysis of your pipelines execution and what is driving its performance.\n",
    "Recall that Spark Optimization has 5 significant dimensions of considertation:\n",
    "- Spill: write to executor disk due to lack of memory\n",
    "- Skew: imbalance in partition size\n",
    "- Shuffle: network io moving data between executors (wide transforms)\n",
    "- Storage: inefficiency due to disk storage format (small files, location)\n",
    "- Serialization: distribution of code segments across the cluster\n",
    "\n",
    "Comment on each of the dimentions of performance and how your impelementation is or is not being affected.  Use specific information in the Spark UI to support your description.  \n",
    "\n",
    "Note: you can take sreenshots of the Spark UI from your project runs in databricks and then link to those pictures by storing them as a publicly accessible file on your cloud drive (google, one drive, etc.)\n",
    "\n",
    "References:\n",
    "- [Spark UI Reference Reference](https://spark.apache.org/docs/latest/web-ui.html#web-ui)\n",
    "- [Spark UI Simulator](https://www.databricks.training/spark-ui-simulator/index.html)"
   ]
  },
  {
   "cell_type": "markdown",
   "metadata": {
    "application/vnd.databricks.v1+cell": {
     "cellMetadata": {},
     "inputWidgets": {},
     "nuid": "a0a5707d-a5ca-4e87-9e74-3b13d00337b0",
     "showTitle": false,
     "title": ""
    }
   },
   "source": [
    "#### Answer:\n",
    "1. Data Balance and Spill:\n",
    "\n",
    "Observation: Uniform partition sizes and relatively small input file sizes suggest an absence of data skew and data spill issues.\n",
    "\n",
    "Implication: Even data distribution prevents bottlenecks caused by large files leading to disk spill, ensuring smooth performance.\n",
    "\n",
    "2. Shuffle Optimization for Wide Transformations:\n",
    "\n",
    "Observation: Shuffle operations are frequent due to GroupBy, OrderBy, Aggregate, and Explode transformations.\n",
    "Optimization: Configuring shuffle partitions as a multiple of cores minimizes data movement delays during shuffles(as done in step 1.)\n",
    "\n",
    "Implication: Strategic partition configuration reduces overhead associated with shuffle operations, a necessary component of the processing.\n",
    "\n",
    "You can clearly see that spill is absent and there is very little data shuffle.(https://drive.google.com/file/d/1pP3IZfVMbn0Qn2nDCRoMV2AeX2k6Wnru/view?usp=sharing)\n",
    "\n",
    "3. Storage Optimization for Initial Ingestion:\n",
    "\n",
    "Observation: Storing initial JSON files in the S3 bucket with many small files leads to inefficient read times.\n",
    "Further Steps: Since Delta tables (Bronze, Silver, Gold) provide efficient storage, focus on optimizing initial ingestion. This could involve consolidating small files before processing or adjusting read mechanisms.\n",
    "\n",
    "4. UDF Optimization Opportunities:\n",
    "\n",
    "Observation: The ML model serialization implemented as a UDF is the most time-consuming operation.\n",
    "Alternative Considerations: While replacing the sentiment analysis UDF is not feasible, consider optimizing other UDFs like the one for mention extraction. Explore using built-in Spark functions to reduce reliance on custom UDFs, which can be less efficient.\n",
    "\n",
    "Implication: Optimizing or replacing UDFs with built-in alternatives can potentially improve processing speed.\n",
    "\n",
    "5. Skew Mitigation with Adaptive Query Execution:\n",
    "\n",
    "Observation: Data skew is absent within job executions, further supported by the uniform file sizes.\n",
    "\n",
    "Implication: Balanced data distribution ensures no single node or process becomes a bottleneck due to uneven data loads. Additionally, Adaptive Query Execution (AQE) optimizes partition handling, further alleviating potential skew."
   ]
  },
  {
   "cell_type": "code",
   "execution_count": 0,
   "metadata": {
    "application/vnd.databricks.v1+cell": {
     "cellMetadata": {},
     "inputWidgets": {},
     "nuid": "e098fa89-dd16-4cd2-b07d-8768b53d275d",
     "showTitle": false,
     "title": ""
    }
   },
   "outputs": [],
   "source": []
  }
 ],
 "metadata": {
  "application/vnd.databricks.v1+notebook": {
   "dashboards": [],
   "language": "python",
   "notebookMetadata": {
    "mostRecentlyExecutedCommandWithImplicitDF": {
     "commandId": 1599202439921824,
     "dataframes": [
      "_sqldf"
     ]
    },
    "pythonIndentUnit": 4,
    "widgetLayout": [
     {
      "breakBefore": false,
      "name": "clear_previous_run",
      "width": 203
     },
     {
      "breakBefore": false,
      "name": "stop_streams",
      "width": 203
     }
    ]
   },
   "notebookName": "Starter Streaming Tweet Sentiment - Spring 2024 Final Project",
   "widgets": {
    "clear_previous_run": {
     "currentValue": "No",
     "nuid": "11b43403-c70f-41ef-ab0e-41172583baaa",
     "typedWidgetInfo": null,
     "widgetInfo": {
      "widgetType": "dropdown",
      "defaultValue": "No",
      "label": null,
      "name": "clear_previous_run",
      "options": {
       "widgetType": "dropdown",
       "autoCreated": null,
       "choices": [
        "No",
        "Yes"
       ]
      }
     }
    },
    "optimize_tables": {
     "currentValue": "No",
     "nuid": "ae4eefb8-ca1e-4c2f-94ec-50a731638bd0",
     "typedWidgetInfo": null,
     "widgetInfo": {
      "widgetType": "dropdown",
      "defaultValue": "No",
      "label": null,
      "name": "optimize_tables",
      "options": {
       "widgetType": "dropdown",
       "autoCreated": null,
       "choices": [
        "No",
        "Yes"
       ]
      }
     }
    },
    "stop_streams": {
     "currentValue": "No",
     "nuid": "140b4e99-21a2-48de-85a2-c97572d707f6",
     "typedWidgetInfo": null,
     "widgetInfo": {
      "widgetType": "dropdown",
      "defaultValue": "No",
      "label": null,
      "name": "stop_streams",
      "options": {
       "widgetType": "dropdown",
       "autoCreated": null,
       "choices": [
        "No",
        "Yes"
       ]
      }
     }
    }
   }
  }
 },
 "nbformat": 4,
 "nbformat_minor": 0
}
